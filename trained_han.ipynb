{
 "cells": [
  {
   "cell_type": "markdown",
   "metadata": {},
   "source": [
    "# Running trained HAN model for predicting text complexity"
   ]
  },
  {
   "cell_type": "markdown",
   "metadata": {},
   "source": [
    "This notebook loads the pre-trained hierarchical attention network from Hierarchical Attention Networks for Document Classification (http://www.cs.cmu.edu/~./hovy/papers/16HLT-hierarchical-attention-networks.pdf), and runs it on a test set; there is also the option to visualize attention at the word and senetce level. \n",
    "The model has been train to map grades K-12 to 6 levels:\n",
    "\n",
    "K-1 -> 0\n",
    "\n",
    "2-3 -> 1\n",
    "\n",
    "4-5 -> 2\n",
    "\n",
    "6-8 -> 3\n",
    "\n",
    "9-10 -> 4\n",
    "\n",
    "11-12 -> 5."
   ]
  },
  {
   "cell_type": "markdown",
   "metadata": {},
   "source": [
    "The pretrained model can be obtained from https://www.dropbox.com/sh/ik2pnukue00g9ay/AADl5gmsqsC-si8_9w72-vXDa?dl=0. A test set is also available at https://sites.google.com/site/nadeemf0755/research/linguistic-complexity. "
   ]
  },
  {
   "cell_type": "code",
   "execution_count": 1,
   "metadata": {},
   "outputs": [],
   "source": [
    "from __future__ import print_function, division\n",
    "\n",
    "import os\n",
    "import os.path\n",
    "import pandas as pd\n",
    "from io import StringIO\n",
    "import io\n",
    "import unicodedata\n",
    "import re\n",
    "\n",
    "import tensorflow as tf\n",
    "import numpy as np\n",
    "np.set_printoptions(threshold = 10000)\n",
    "import collections\n",
    "import random\n",
    "\n",
    "#from tensorflow.contrib.rnn import LSTMCell as Cell\n",
    "from gru import GRUCell as Cell #custom implementation with normalization\n",
    "from tensorflow.python.ops.rnn import dynamic_rnn as rnn\n",
    "from tensorflow.python.ops.rnn import bidirectional_dynamic_rnn as bi_rnn\n",
    "\n",
    "from attention import attention\n",
    "#from bca import *\n",
    "from ordloss import *\n",
    "from utils import *\n",
    "#from dataUtils import *\n",
    "from dataUtilsbca import *\n",
    "\n",
    "\n",
    "from numpy import array\n",
    "from numpy import argmax\n",
    "from sklearn.preprocessing import LabelEncoder\n",
    "from sklearn.preprocessing import OneHotEncoder\n",
    "from scipy import stats\n",
    "from sklearn.metrics import accuracy_score\n",
    " "
   ]
  },
  {
   "cell_type": "code",
   "execution_count": 7,
   "metadata": {},
   "outputs": [],
   "source": [
    "# load the dictionary from the pre-trained model folder\n",
    "import csv \n",
    "dictionary = {}\n",
    "for key,val in csv.reader(open('trainedhanmodel/han_dict_trained.csv')):\n",
    "    dictionary[key] = val"
   ]
  },
  {
   "cell_type": "code",
   "execution_count": 9,
   "metadata": {},
   "outputs": [],
   "source": [
    "# the test data set; the format is csv, with the text column labelled 'text'\n",
    "df_test = pd.read_csv('test.csv')"
   ]
  },
  {
   "cell_type": "code",
   "execution_count": 10,
   "metadata": {},
   "outputs": [
    {
     "data": {
      "text/html": [
       "<div>\n",
       "<style scoped>\n",
       "    .dataframe tbody tr th:only-of-type {\n",
       "        vertical-align: middle;\n",
       "    }\n",
       "\n",
       "    .dataframe tbody tr th {\n",
       "        vertical-align: top;\n",
       "    }\n",
       "\n",
       "    .dataframe thead th {\n",
       "        text-align: right;\n",
       "    }\n",
       "</style>\n",
       "<table border=\"1\" class=\"dataframe\">\n",
       "  <thead>\n",
       "    <tr style=\"text-align: right;\">\n",
       "      <th></th>\n",
       "      <th>grade</th>\n",
       "      <th>text</th>\n",
       "    </tr>\n",
       "  </thead>\n",
       "  <tbody>\n",
       "    <tr>\n",
       "      <th>0</th>\n",
       "      <td>6</td>\n",
       "      <td>what is movement ?</td>\n",
       "    </tr>\n",
       "    <tr>\n",
       "      <th>1</th>\n",
       "      <td>4</td>\n",
       "      <td>what is economics ?</td>\n",
       "    </tr>\n",
       "    <tr>\n",
       "      <th>2</th>\n",
       "      <td>4</td>\n",
       "      <td>what is produced ?</td>\n",
       "    </tr>\n",
       "    <tr>\n",
       "      <th>3</th>\n",
       "      <td>4</td>\n",
       "      <td>3 . what is evaporation ?</td>\n",
       "    </tr>\n",
       "    <tr>\n",
       "      <th>4</th>\n",
       "      <td>4</td>\n",
       "      <td>13 . what is condensation ?</td>\n",
       "    </tr>\n",
       "  </tbody>\n",
       "</table>\n",
       "</div>"
      ],
      "text/plain": [
       "   grade                           text\n",
       "0      6            what is movement ? \n",
       "1      4           what is economics ? \n",
       "2      4            what is produced ? \n",
       "3      4     3 . what is evaporation ? \n",
       "4      4   13 . what is condensation ? "
      ]
     },
     "execution_count": 10,
     "metadata": {},
     "output_type": "execute_result"
    }
   ],
   "source": [
    "# perform basic text clean-up, lower casing, and convert British spelling to US \n",
    "text = []\n",
    "for i in range(len(df_test)):\n",
    "    t = df_test.iloc[i]['text']\n",
    "    text.append(clean_(t))\n",
    "df_test['text'] = text\n",
    "df_test.head()"
   ]
  },
  {
   "cell_type": "code",
   "execution_count": 11,
   "metadata": {},
   "outputs": [],
   "source": [
    "SEQUENCE_LENGTH = 65 # Length of sentence in words\n",
    "SEQUENCE_LENGTH_D = 40 # length of sentences in document\n",
    "BATCH_SIZE = 10"
   ]
  },
  {
   "cell_type": "code",
   "execution_count": 12,
   "metadata": {},
   "outputs": [
    {
     "name": "stdout",
     "output_type": "stream",
     "text": [
      "len of test set:  5444\n"
     ]
    }
   ],
   "source": [
    "X_test_ = read_test_set(df_test, dictionary, SEQUENCE_LEN_D = SEQUENCE_LENGTH_D, SEQUENCE_LEN = SEQUENCE_LENGTH)"
   ]
  },
  {
   "cell_type": "code",
   "execution_count": 15,
   "metadata": {},
   "outputs": [],
   "source": [
    "vocabulary_size = len(dictionary)\n",
    "EMBEDDING_DIM = 300"
   ]
  },
  {
   "cell_type": "code",
   "execution_count": 16,
   "metadata": {},
   "outputs": [],
   "source": [
    "tf.reset_default_graph()"
   ]
  },
  {
   "cell_type": "code",
   "execution_count": 17,
   "metadata": {},
   "outputs": [
    {
     "name": "stdout",
     "output_type": "stream",
     "text": [
      "INFO:tensorflow:Restoring parameters from trainedhanmodel/dualAttModelpad93\n"
     ]
    }
   ],
   "source": [
    "\"\"\"\n",
    "Reload the trained model; get reading level predictions for test set \n",
    "\"\"\"\n",
    "tf.reset_default_graph()\n",
    "\n",
    "NUM_WORDS = vocabulary_size\n",
    "INDEX_FROM = 3\n",
    "#EMBEDDING_DIM = embedding_dim\n",
    "HIDDEN_SIZE = 50\n",
    "ATTENTION_SIZE = 10\n",
    "HIDDEN_SIZE_D = 20\n",
    "ATTENTION_SIZE_D = 5\n",
    "BATCH_SIZE = 10\n",
    "DELTA = 0.75\n",
    "hl = 0.0\n",
    "hl2 = 0.0\n",
    "\n",
    "#Different placeholders\n",
    "num_classes = 6\n",
    "batch_ph = tf.placeholder(tf.int32, [None, SEQUENCE_LENGTH])\n",
    "ind_list_ph = tf.placeholder(tf.int32, [None])\n",
    "target_ph = tf.placeholder(tf.float32, [None,num_classes])\n",
    "seq_len_ph = tf.placeholder(tf.int32, [None])\n",
    "seq_len_ph_d = tf.placeholder(tf.int32, [None])\n",
    "keep_prob_ph = tf.placeholder(tf.float32)\n",
    "\n",
    "\n",
    "\n",
    "# Embedding layer\n",
    "embeddings_var = tf.Variable(tf.random_uniform([vocabulary_size, EMBEDDING_DIM], -1.0, 1.0), trainable=True)\n",
    "batch_embedded = tf.nn.embedding_lookup(embeddings_var, batch_ph)\n",
    "\n",
    "# (Bi-)RNN layer(-s)\n",
    "with tf.variable_scope('sentence'):\n",
    "    rnn_outputs, _ = bi_rnn(Cell(HIDDEN_SIZE), Cell(HIDDEN_SIZE), inputs=batch_embedded, sequence_length=seq_len_ph, dtype=tf.float32)\n",
    "    attention_output, alphas = attention(rnn_outputs, ATTENTION_SIZE, seq_len_ph, return_alphas=True)\n",
    "    attention_output = tf.reshape(attention_output,[BATCH_SIZE, SEQUENCE_LENGTH_D, HIDDEN_SIZE*2])\n",
    "    \n",
    "with tf.variable_scope('document'):\n",
    "    rnn_outputs_d, _ = bi_rnn(Cell(HIDDEN_SIZE_D), Cell(HIDDEN_SIZE_D), inputs=attention_output, sequence_length=seq_len_ph_d, dtype=tf.float32)\n",
    "    attention_output_d, alphas_d = attention(rnn_outputs_d, ATTENTION_SIZE_D, seq_len_ph_d, return_alphas=True)\n",
    "\n",
    "drop = tf.nn.dropout(attention_output_d, keep_prob_ph)\n",
    "\n",
    "# For ordinal regression, same weights for each class\n",
    "W = tf.Variable(tf.truncated_normal([drop.get_shape()[1].value], stddev=0.1))\n",
    "W_ = tf.transpose(tf.reshape(tf.tile(W,[num_classes - 1]),[num_classes - 1, drop.get_shape()[1].value]))\n",
    "b = tf.Variable(tf.cast(tf.range(num_classes - 1), dtype = tf.float32))\n",
    "b2 = tf.Variable(tf.cast(tf.range(num_classes - 1), dtype = tf.float32))\n",
    "y_hat_ = tf.nn.xw_plus_b(drop, tf.negative(W_), b)\n",
    "y_hat_2 = tf.nn.xw_plus_b(drop, tf.negative(W_), b2)\n",
    "\n",
    "# Predicted labels and logits\n",
    "y_preds, logits = preds(y_hat_,BATCH_SIZE)\n",
    "y_true = tf.argmax(target_ph, axis = 1)\n",
    "\n",
    "# hinge/hubber loss\n",
    "h_loss = tf.losses.huber_loss(labels = y_true, predictions = y_preds) \n",
    "\n",
    "# Ordinal loss\n",
    "ordloss = tf.add(tf.multiply((1.-hl),ordloss_m(y_hat_, target_ph, BATCH_SIZE)), tf.multiply(hl,h_loss))\n",
    "optimizer = tf.train.AdamOptimizer(learning_rate=1e-3).minimize(ordloss)\n",
    "\n",
    "MODEL_PATH = \"trainedhanmodel/dualAttModelpad93\"\n",
    "\n",
    "saver = tf.train.Saver()\n",
    "\n",
    "test_batch_generator_ = test_batch_generator(X_test_, BATCH_SIZE, seq_len = SEQUENCE_LENGTH_D)\n",
    "\n",
    "\n",
    "# Calculate alpha coefficients for the first test example\n",
    "with tf.Session() as sess:\n",
    "    saver.restore(sess, MODEL_PATH)\n",
    "    \n",
    "    while True:\n",
    "\n",
    "        #testing\n",
    "        num_batches = X_test_.shape[0] // (BATCH_SIZE*SEQUENCE_LENGTH_D)\n",
    "        a = []\n",
    "        #a_dual = []\n",
    "        a_d = []\n",
    "        true = []\n",
    "        preds_ = []\n",
    "        log_ = []\n",
    "        #a_d_dual = []\n",
    "        #x_batch = X_test_\n",
    "        #y_batch = y_test_\n",
    "        for bx in range(num_batches):\n",
    "            x_batch = next(test_batch_generator_)\n",
    "            seq_len = np.array([list(x).index(0) + 1 for x in x_batch])  # actual lengths of sequences\n",
    "            seq_len_d = []               \n",
    "            l = SEQUENCE_LENGTH_D\n",
    "            for i in range(0,len(x_batch),l):\n",
    "                for j in range(i,i+l):\n",
    "                    if list(x_batch[j]).index(0) == 0:\n",
    "                        seq_len_d.append(j%l)\n",
    "                        break\n",
    "                    elif j == i+l-1:\n",
    "                        seq_len_d.append(l)\n",
    "\n",
    "            seq_len_d = np.array(seq_len_d)\n",
    "\n",
    "            log, pred, alph, alph_d = sess.run([logits, y_preds, alphas, alphas_d],\n",
    "                         feed_dict={batch_ph: x_batch,\n",
    "                                    seq_len_ph: seq_len,\n",
    "                                    seq_len_ph_d: seq_len_d,\n",
    "                                    keep_prob_ph: 1.0})\n",
    "            a.append(alph)\n",
    "            a_d.append(alph_d)\n",
    "            log_.append(log)\n",
    "            \n",
    "            preds_.extend(pred)\n",
    "   \n",
    "        preds_ = np.array(preds_)\n",
    "        preds_ = preds_.flatten()\n",
    "\n",
    "            \n",
    "        break\n",
    " "
   ]
  },
  {
   "cell_type": "code",
   "execution_count": 18,
   "metadata": {},
   "outputs": [],
   "source": [
    "#display word and sentence level attention\n",
    "from IPython.core.display import display, HTML\n",
    "#Display sentence level attention \n",
    "sc = 0\n",
    "HTML_str_all_sent = []\n",
    "for i in df_test['text']:\n",
    "    i = sent_tokenize(i)\n",
    "        \n",
    "    bc = 0 \n",
    "    HTML_str = ''\n",
    "    s_len = min(len(i),SEQUENCE_LENGTH_D)\n",
    "\n",
    "    for j in i[:s_len]:\n",
    "        j = 'START ' + str(j)\n",
    "        x = j.split()\n",
    "        att = a[sc//BATCH_SIZE][((sc%BATCH_SIZE)*SEQUENCE_LENGTH_D)+bc]\n",
    "        att = att/att.max()\n",
    "        bc+=1\n",
    "    \n",
    "        att_sent = []\n",
    "        count = 0\n",
    "\n",
    "        for w in x:\n",
    "            if w == 'START':\n",
    "                continue\n",
    "            HTML_str = HTML_str + '<font style=\"background: rgba(153, 204, 255, %f)\">%s</font>' % (att[count], w+' ')\n",
    "                \n",
    "            count+=1\n",
    "            if count == SEQUENCE_LENGTH:\n",
    "                break\n",
    "    sc+=1        \n",
    "    HTML_str_all_sent.append(HTML_str)\n",
    "    HTML_str = ''\n",
    "    \n",
    "    #print(i)\n",
    "    #break\n",
    "    \n",
    "#Display sentence level attention \n",
    "sc = 0\n",
    "HTML_str_all_doc = []\n",
    "for i in df_test['text'][:-10]:\n",
    "    i = sent_tokenize(i)\n",
    "        \n",
    "    HTML_str = ''\n",
    "    s_len = min(len(i),SEQUENCE_LENGTH_D)\n",
    "    i = i[:s_len]\n",
    "    att = a_d[sc//BATCH_SIZE][sc%BATCH_SIZE][:s_len]\n",
    "    att = att/att.max()\n",
    "    att_sent = []\n",
    "    count = 0\n",
    "\n",
    "    for w in i:\n",
    "        HTML_str = HTML_str + '<font style=\"background: rgba(255, 178, 102, %f)\">%s</font>' % (att[count], w+' ')\n",
    "        count+=1\n",
    "        if count == SEQUENCE_LENGTH_D:\n",
    "            break\n",
    "    sc+=1        \n",
    "    HTML_str_all_doc.append(HTML_str)\n",
    "    HTML_str = ''\n",
    "    \n",
    "    #print(i)\n",
    "    #break\n",
    "\n"
   ]
  },
  {
   "cell_type": "code",
   "execution_count": 19,
   "metadata": {},
   "outputs": [
    {
     "data": {
      "text/html": [
       "<font style=\"background: rgba(153, 204, 255, 1.000000)\">what </font><font style=\"background: rgba(153, 204, 255, 0.187791)\">is </font><font style=\"background: rgba(153, 204, 255, 0.041109)\">movement </font><font style=\"background: rgba(153, 204, 255, 0.026272)\">? </font>"
      ],
      "text/plain": [
       "<IPython.core.display.HTML object>"
      ]
     },
     "metadata": {},
     "output_type": "display_data"
    },
    {
     "data": {
      "text/html": [
       "<font style=\"background: rgba(255, 178, 102, 1.000000)\"> what is movement ? </font>"
      ],
      "text/plain": [
       "<IPython.core.display.HTML object>"
      ]
     },
     "metadata": {},
     "output_type": "display_data"
    }
   ],
   "source": [
    "i = 0\n",
    "display(HTML(HTML_str_all_sent[i]))\n",
    "display(HTML(HTML_str_all_doc[i]))\n"
   ]
  },
  {
   "cell_type": "code",
   "execution_count": null,
   "metadata": {},
   "outputs": [],
   "source": []
  }
 ],
 "metadata": {
  "kernelspec": {
   "display_name": "Python 3",
   "language": "python",
   "name": "python3"
  },
  "language_info": {
   "codemirror_mode": {
    "name": "ipython",
    "version": 3
   },
   "file_extension": ".py",
   "mimetype": "text/x-python",
   "name": "python",
   "nbconvert_exporter": "python",
   "pygments_lexer": "ipython3",
   "version": "3.5.1"
  }
 },
 "nbformat": 4,
 "nbformat_minor": 2
}
